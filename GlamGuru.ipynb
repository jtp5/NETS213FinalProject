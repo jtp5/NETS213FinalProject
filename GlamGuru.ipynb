{
  "nbformat": 4,
  "nbformat_minor": 0,
  "metadata": {
    "colab": {
      "name": "GlamGuru.ipynb",
      "provenance": []
    },
    "kernelspec": {
      "name": "python3",
      "display_name": "Python 3"
    },
    "language_info": {
      "name": "python"
    }
  },
  "cells": [
    {
      "cell_type": "markdown",
      "metadata": {
        "id": "-k2D7PvjLy55"
      },
      "source": [
        "Run below code to install dependencies and to connect to google drive (so you can upload and test those photos). "
      ]
    },
    {
      "cell_type": "code",
      "metadata": {
        "colab": {
          "base_uri": "https://localhost:8080/"
        },
        "id": "6ebrEddXifp5",
        "outputId": "37060f05-6dc2-44bf-9e7b-f9976e7c1e72"
      },
      "source": [
        "!pip install -Uqq fastbook\n",
        "import pandas as pd \n",
        "import fastbook\n",
        "fastbook.setup_book()\n",
        "import sklearn\n",
        "from fastbook import *\n",
        "from fastai.vision.all import *\n",
        "from google.colab import drive\n",
        "drive.mount('/content/drive')"
      ],
      "execution_count": 1,
      "outputs": [
        {
          "output_type": "stream",
          "text": [
            "\u001b[K     |████████████████████████████████| 727kB 26.4MB/s \n",
            "\u001b[K     |████████████████████████████████| 1.2MB 38.1MB/s \n",
            "\u001b[K     |████████████████████████████████| 204kB 51.4MB/s \n",
            "\u001b[K     |████████████████████████████████| 51kB 5.8MB/s \n",
            "\u001b[K     |████████████████████████████████| 61kB 6.8MB/s \n",
            "\u001b[K     |████████████████████████████████| 51kB 5.7MB/s \n",
            "\u001b[?25hMounted at /content/gdrive\n",
            "Mounted at /content/drive\n"
          ],
          "name": "stdout"
        }
      ]
    },
    {
      "cell_type": "markdown",
      "metadata": {
        "id": "XAJRDA2iL5u4"
      },
      "source": [
        "Drag the fashionclassifer.pkl file into the file tree on the left. "
      ]
    },
    {
      "cell_type": "code",
      "metadata": {
        "id": "pI3B53HiilkV"
      },
      "source": [
        "learn = load_learner(\"/content/good_classifier.pkl\")"
      ],
      "execution_count": null,
      "outputs": []
    },
    {
      "cell_type": "markdown",
      "metadata": {
        "id": "ojuxEzDGL87g"
      },
      "source": [
        "Add images you want to classify into the file tree on the left. Then, put the filepath of the image you want the classifier to classify as the predict argument."
      ]
    },
    {
      "cell_type": "code",
      "metadata": {
        "id": "O2GInxZSipAJ"
      },
      "source": [
        "learn.predict(\"/content/test6(faf).jpeg\")"
      ],
      "execution_count": null,
      "outputs": []
    }
  ]
}